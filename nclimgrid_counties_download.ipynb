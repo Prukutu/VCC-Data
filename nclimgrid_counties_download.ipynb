{
 "cells": [
  {
   "cell_type": "code",
   "execution_count": null,
   "id": "c10d8912-6120-485d-bb60-a16b226d7a0d",
   "metadata": {},
   "outputs": [],
   "source": [
    "import pandas as pd\n",
    "import matplotlib.pyplot as plt\n",
    "\n",
    "import requests"
   ]
  },
  {
   "cell_type": "code",
   "execution_count": null,
   "id": "0be5b636-f72a-4a8d-aedd-8406e57809df",
   "metadata": {},
   "outputs": [],
   "source": [
    "def nclim_download(var_name, year, month, avgtype='cty', url_root='https://www.ncei.noaa.gov/data/nclimgrid-daily/access/averages/'):\n",
    "    \"\"\" Function to download nClimGrid-d data from its NOAA NCEI repository.\n",
    "        \n",
    "        Input variables:\n",
    "        -------------------\n",
    "        var_name: variable name of interest. Accepted choices are [prcp, tmin, tmax, tavg]\n",
    "        year: year of data to be downloaded.\n",
    "        month: month od data to be downloaded.\n",
    "        avgtype: aggregation to download. Accepted options are:\n",
    "            {\n",
    "             cen: census block,\n",
    "             cty: county,\n",
    "             div: climate divisions,\n",
    "             hcl: hydrologic unit code (HCL) 1 regions,\n",
    "             nca: NCA regions\n",
    "             reg: NCEI regions,\n",
    "             ste: state,\n",
    "             wfo: weather forecast office\n",
    "            }\n",
    "        url_root: Site root containing the nClimGrid-d data\n",
    "        \n",
    "    \"\"\"\n",
    "    filename = '-'.join([var_name, str(year) + str(month).zfill(2), 'cty', 'scaled.csv'])\n",
    "    \n",
    "    # Get response from server\n",
    "    response = requests.get(url_root + str(year) +  '/' + filename)\n",
    "    \n",
    "    if response.status_code == 200:\n",
    "        with open(filename, 'wb') as f:\n",
    "            f.write(response.content)\n",
    "    else:\n",
    "        print('Failed to download ' + filename)\n",
    "    \n",
    "    return None"
   ]
  },
  {
   "cell_type": "code",
   "execution_count": null,
   "id": "b4378e7d-d001-4d99-8735-5bd380c4270c",
   "metadata": {},
   "outputs": [],
   "source": [
    "month_list = range(1, 13)\n",
    "year_list = range(1951, 2023)\n",
    "var_names = ['prcp', 'tmax', 'tmin', 'tavg']\n",
    "\n",
    "# Download all the data die all years and months\n",
    "for yr in year_list:\n",
    "    for mo in month_list:\n",
    "        for vname in var_names:\n",
    "            nclim_download(vname, yr, mo)"
   ]
  }
 ],
 "metadata": {
  "kernelspec": {
   "display_name": "Python [conda env:data] *",
   "language": "python",
   "name": "conda-env-data-py"
  },
  "language_info": {
   "codemirror_mode": {
    "name": "ipython",
    "version": 3
   },
   "file_extension": ".py",
   "mimetype": "text/x-python",
   "name": "python",
   "nbconvert_exporter": "python",
   "pygments_lexer": "ipython3",
   "version": "3.11.0"
  }
 },
 "nbformat": 4,
 "nbformat_minor": 5
}
